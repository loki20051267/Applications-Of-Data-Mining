{
  "nbformat": 4,
  "nbformat_minor": 0,
  "metadata": {
    "colab": {
      "provenance": [],
      "authorship_tag": "ABX9TyNmnPhL+BMG0UZpMtgArxvd",
      "include_colab_link": true
    },
    "kernelspec": {
      "name": "python3",
      "display_name": "Python 3"
    },
    "language_info": {
      "name": "python"
    }
  },
  "cells": [
    {
      "cell_type": "markdown",
      "metadata": {
        "id": "view-in-github",
        "colab_type": "text"
      },
      "source": [
        "<a href=\"https://colab.research.google.com/github/loki20051267/Applications-Of-Data-Mining/blob/main/ADM_LAB_6_Data_Transformation.ipynb\" target=\"_parent\"><img src=\"https://colab.research.google.com/assets/colab-badge.svg\" alt=\"Open In Colab\"/></a>"
      ]
    },
    {
      "cell_type": "code",
      "execution_count": 2,
      "metadata": {
        "colab": {
          "base_uri": "https://localhost:8080/"
        },
        "id": "u3DCx9mjN9GO",
        "outputId": "b310b786-4a94-4ebc-803d-7c2c665fc9b5"
      },
      "outputs": [
        {
          "output_type": "stream",
          "name": "stdout",
          "text": [
            "One-Hot & Label Encoded Data:\n",
            "   Category  Label_Encoded  Category_A  Category_B  Category_C\n",
            "0        A              0        True       False       False\n",
            "1        B              1       False        True       False\n",
            "2        C              2       False       False        True\n",
            "3        A              0        True       False       False\n",
            "4        B              1       False        True       False\n",
            "\n",
            "Derived Column (Age from DOB):\n",
            "      Name Date_of_Birth  Age\n",
            "0  Lokesh    2005-02-15   20\n",
            "1  Sriram    2004-03-26   21\n",
            "\n",
            "Grouped Data:\n",
            "          Value      \n",
            "           sum  mean\n",
            "Category            \n",
            "A           30  15.0\n",
            "B           70  35.0\n",
            "C           50  50.0\n",
            "\n",
            "Pivot Table:\n",
            "            sum  mean\n",
            "         Value Value\n",
            "Category            \n",
            "A           30  15.0\n",
            "B           70  35.0\n",
            "C           50  50.0\n"
          ]
        }
      ],
      "source": [
        "import pandas as pd\n",
        "from sklearn.preprocessing import LabelEncoder\n",
        "from datetime import datetime\n",
        "\n",
        "data = {'Category': ['A', 'B', 'C', 'A', 'B']}\n",
        "df = pd.DataFrame(data)\n",
        "\n",
        "label_encoder = LabelEncoder()\n",
        "df['Label_Encoded'] = label_encoder.fit_transform(df['Category'])\n",
        "\n",
        "one_hot_encoded = pd.get_dummies(df['Category'], prefix='Category')\n",
        "df = pd.concat([df, one_hot_encoded], axis=1)\n",
        "\n",
        "print(\"One-Hot & Label Encoded Data:\\n\", df)\n",
        "\n",
        "data = {'Name': ['Lokesh', 'Sriram'], 'Date_of_Birth': ['2005-02-15', '2004-03-26']}\n",
        "df_age = pd.DataFrame(data)\n",
        "\n",
        "df_age['Date_of_Birth'] = pd.to_datetime(df_age['Date_of_Birth'])\n",
        "\n",
        "current_year = datetime.now().year\n",
        "df_age['Age'] = current_year - df_age['Date_of_Birth'].dt.year\n",
        "\n",
        "print(\"\\nDerived Column (Age from DOB):\\n\", df_age)\n",
        "\n",
        "data = {'Category': ['A', 'A', 'B', 'B', 'C'], 'Value': [10, 20, 30, 40, 50]}\n",
        "df_group = pd.DataFrame(data)\n",
        "\n",
        "grouped = df_group.groupby('Category').agg({'Value': ['sum', 'mean']})\n",
        "print(\"\\nGrouped Data:\\n\", grouped)\n",
        "\n",
        "pivot = df_group.pivot_table(index='Category', values='Value', aggfunc=['sum', 'mean'])\n",
        "print(\"\\nPivot Table:\\n\", pivot)\n"
      ]
    }
  ]
}